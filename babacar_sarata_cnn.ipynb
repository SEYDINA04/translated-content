{
  "nbformat": 4,
  "nbformat_minor": 0,
  "metadata": {
    "colab": {
      "provenance": [],
      "toc_visible": true,
      "authorship_tag": "ABX9TyPuWcjVZUlxy4QZJXrCIM+2",
      "include_colab_link": true
    },
    "kernelspec": {
      "name": "python3",
      "display_name": "Python 3"
    },
    "language_info": {
      "name": "python"
    }
  },
  "cells": [
    {
      "cell_type": "markdown",
      "metadata": {
        "id": "view-in-github",
        "colab_type": "text"
      },
      "source": [
        "<a href=\"https://colab.research.google.com/github/SEYDINA04/translated-content/blob/main/babacar_sarata_cnn.ipynb\" target=\"_parent\"><img src=\"https://colab.research.google.com/assets/colab-badge.svg\" alt=\"Open In Colab\"/></a>"
      ]
    },
    {
      "cell_type": "code",
      "source": [
        "# @title IMPORTATION LIBRARY TENSORFLOW ET MODULE KERAS\n",
        "import tensorflow as tf\n",
        "from keras import models\n",
        "from keras import layers\n",
        "from tensorflow.keras.utils import to_categorical\n",
        "from tensorflow.keras.models import Sequential\n",
        "from tensorflow.keras.layers import Conv2D\n",
        "from tensorflow.keras.layers import MaxPooling2D\n",
        "from tensorflow.keras.layers import Dense\n",
        "from tensorflow.keras.layers import Flatten"
      ],
      "metadata": {
        "cellView": "form",
        "id": "vHTUpxFORa-A"
      },
      "execution_count": 13,
      "outputs": []
    },
    {
      "cell_type": "code",
      "source": [
        "# @title CHARGER NOTRE JEU DE DONNEES\n",
        "mnist = tf.keras.datasets.mnist\n",
        "(x_train, y_train), (x_test, y_test) = mnist.load_data()\n",
        "x_train, x_test = x_train / 255.0, x_test / 255.0"
      ],
      "metadata": {
        "cellView": "form",
        "id": "kiOuxZhZQ9bY"
      },
      "execution_count": 14,
      "outputs": []
    },
    {
      "cell_type": "code",
      "source": [
        "\n",
        "# @title INITIALISATION ET CONSTRUCTION DU MODEL\n",
        "model = Sequential()\n",
        "model.add(Conv2D(32, (3, 3), activation='relu',kernel_initializer='he_uniform',input_shape=(28, 28, 1)))"
      ],
      "metadata": {
        "cellView": "form",
        "id": "62ZMRDROSXWv"
      },
      "execution_count": 16,
      "outputs": []
    },
    {
      "cell_type": "code",
      "source": [
        "# @title COUCHE MaxPolling\n",
        "model.add(MaxPooling2D((2, 2)))"
      ],
      "metadata": {
        "cellView": "form",
        "id": "jAKL5OD-Uxg7"
      },
      "execution_count": 17,
      "outputs": []
    },
    {
      "cell_type": "code",
      "source": [
        "# @title TENSEUR\n",
        "model.add(Flatten())"
      ],
      "metadata": {
        "cellView": "form",
        "id": "uUoUlTo8V4o6"
      },
      "execution_count": 18,
      "outputs": []
    },
    {
      "cell_type": "code",
      "source": [
        "# @title COUCHE ENTIEREMENT CONNECTEE\n",
        "model.add(Dense(100, activation='relu', kernel_initializer='he_uniform'))\n",
        "model.add(Dense(10, activation='softmax'))"
      ],
      "metadata": {
        "cellView": "form",
        "id": "N9vfMD6vYHAB"
      },
      "execution_count": 19,
      "outputs": []
    },
    {
      "cell_type": "code",
      "source": [
        "# @title COMPILATION\n",
        "model.compile(\n",
        "optimizer=tf.keras.optimizers.Adam(0.001),\n",
        "loss=tf.keras.losses.SparseCategoricalCrossentropy(from_logits=True),\n",
        "metrics=[tf.keras.metrics.SparseCategoricalAccuracy()],)\n",
        "model.fit(x_train, y_train, epochs=5)\n",
        "model.evaluate(x_test, y_test, verbose=2)"
      ],
      "metadata": {
        "colab": {
          "base_uri": "https://localhost:8080/"
        },
        "cellView": "form",
        "id": "mBWdwI7TZxB-",
        "outputId": "d029f55b-244d-4581-85d1-b770942d97b6"
      },
      "execution_count": 20,
      "outputs": [
        {
          "output_type": "stream",
          "name": "stdout",
          "text": [
            "Epoch 1/5\n",
            "1875/1875 [==============================] - 37s 19ms/step - loss: 0.1355 - sparse_categorical_accuracy: 0.9593\n",
            "Epoch 2/5\n",
            "1875/1875 [==============================] - 35s 19ms/step - loss: 0.0462 - sparse_categorical_accuracy: 0.9852\n",
            "Epoch 3/5\n",
            "1875/1875 [==============================] - 35s 19ms/step - loss: 0.0266 - sparse_categorical_accuracy: 0.9917\n",
            "Epoch 4/5\n",
            "1875/1875 [==============================] - 34s 18ms/step - loss: 0.0182 - sparse_categorical_accuracy: 0.9941\n",
            "Epoch 5/5\n",
            "1875/1875 [==============================] - 35s 19ms/step - loss: 0.0122 - sparse_categorical_accuracy: 0.9958\n",
            "313/313 - 2s - loss: 0.0584 - sparse_categorical_accuracy: 0.9843 - 2s/epoch - 8ms/step\n"
          ]
        },
        {
          "output_type": "execute_result",
          "data": {
            "text/plain": [
              "[0.058431774377822876, 0.9843000173568726]"
            ]
          },
          "metadata": {},
          "execution_count": 20
        }
      ]
    }
  ]
}